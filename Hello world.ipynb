{
 "cells": [
  {
   "cell_type": "code",
   "execution_count": 1,
   "id": "2c464d29",
   "metadata": {},
   "outputs": [
    {
     "data": {
      "text/plain": [
       "'Hello world'"
      ]
     },
     "execution_count": 1,
     "metadata": {},
     "output_type": "execute_result"
    }
   ],
   "source": [
    "\"Hello world\""
   ]
  },
  {
   "cell_type": "code",
   "execution_count": null,
   "id": "b64cbe83",
   "metadata": {},
   "outputs": [],
   "source": []
  }
 ]
}
